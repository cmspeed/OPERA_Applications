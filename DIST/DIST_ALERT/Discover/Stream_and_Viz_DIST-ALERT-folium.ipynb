{
 "cells": [
  {
   "cell_type": "markdown",
   "id": "bd2c40c2",
   "metadata": {},
   "source": [
    "# Getting Started with OPERA DIST-ALERT-HLS Products"
   ]
  },
  {
   "cell_type": "markdown",
   "id": "50582538",
   "metadata": {},
   "source": [
    "## Streaming and visualizing Cloud-Optimized GeoTIFF (COG) OPERA DIST-ALERT-HLS products using CMR's SpatioTemporal Asset Catalog (CMR-STAC)"
   ]
  },
  {
   "cell_type": "markdown",
   "id": "1183b136",
   "metadata": {},
   "source": [
    "### This tutorial demonstrates how to query and work with the OPERA DIST-ALERT-HLS Data products from the cloud ([OPERA_L3_DIST-ALERT-HLS_V1](https://lpdaac.usgs.gov/products/opera_l3_dist-alert-hls_v1v001/)).\n",
    "---"
   ]
  },
  {
   "cell_type": "markdown",
   "id": "06f3add4",
   "metadata": {},
   "source": [
    "### Data Used in the Example"
   ]
  },
  {
   "cell_type": "markdown",
   "id": "e79a3966",
   "metadata": {},
   "source": [
    "* **30 meter (m) global OPERA Land Surface Disturbance Alert from Harmonized Landsat Sentinel-2 product (Version 1) - [OPERA_L3_DIST-ALERT-HLS_V1](https://lpdaac.usgs.gov/products/opera_l3_dist-alert-hls_v1v001/)**<br>\n",
    "    - The Observational Products for End-Users from Remote Sensing Analysis (OPERA) Land Surface Disturbance Alert from Harmonized Landsat Sentinel-2 (HLS) data product Version 1 maps vegetation disturbance alerts from data collected by Landsat 8 and Landsat 9 Operational Land Imager (OLI) and Sentinel-2A and Sentinel-2B Multi-Spectral Instrument (MSI). Vegetation disturbance alert is detected at 30 meter (m) spatial resolution when there is an indicated decrease in vegetation cover within an HLS pixel. The product also provides auxiliary generic disturbance information as determined from the variations of the reflectance through the HLS scenes to provide information about more general disturbance trends. HLS data represent the highest temporal frequency data available at medium spatial resolution. The combined observations will provide greater sensitivity to land changes, whether of large magnitude/short duration, or small magnitude/long duration.\n",
    "    - The OPERA_L3_DIST-ALERT-HLS (or DIST-ALERT) data product is provided in Cloud Optimized GeoTIFF (COG) format, and each layer is distributed as a separate file. There are 19 layers contained within in the DIST-ALERT product: vegetation disturbance status, current vegetation cover indicator, current vegetation anomaly value, historical vegetation cover indicator, max vegetation anomaly value, vegetation disturbance confidence layer, date of initial vegetation disturbance, number of detected vegetation loss anomalies, and vegetation disturbance duration. See the Product Specification for a more detailed description of the individual layers provided in the DIST-ALERT product.\n",
    "* **Science Dataset (SDS) Layers**\n",
    "    - VEG_ANOM_MAX (Maximum Vegetation Anomaly Layer)\n",
    "    - VEG_DIST_DATE (Vegetation Disturbance Date Layer)\n",
    "    - VEG_DIST_STATUS (Vegetation Disturbance Status Layer)"
   ]
  },
  {
   "cell_type": "markdown",
   "id": "0cddfc9c",
   "metadata": {},
   "source": [
    "Please refer to the [OPERA DIST Product Specification Document](https://d2pn8kiwq2w21t.cloudfront.net/documents/ProductSpec_DIST_HLS.pdf) for details about the DIST-ALERT-HLS product.\n",
    "<br><br>\n",
    "\n",
    "---\n",
    "<br> \n",
    "\n",
    "## Topics Covered\n",
    "> 1. Getting Started\n",
    "> 2. CMR-STAC API: Search for data based on spatial query\n",
    "> 3. Load and visualize DIST-ALERT-HLS COGs from the Cloud\n",
    "> 4. Demonstrate time slider visualization tool\n",
    "<br>\n",
    "---\n",
    "<br>\n",
    "\n",
    "## Before Starting this Tutorial\n",
    "A [NASA Earthdata Login](https://urs.earthdata.nasa.gov) account is required to download the data used in this tutorial. You can create an account using the link provided.\n",
    "<br><br>\n",
    "---\n"
   ]
  },
  {
   "cell_type": "markdown",
   "id": "0ba52a33",
   "metadata": {},
   "source": [
    "## 1. Getting Started <br>\n",
    "### 1.1 Import Packages"
   ]
  },
  {
   "cell_type": "code",
   "execution_count": null,
   "id": "fbcf2d5f",
   "metadata": {},
   "outputs": [],
   "source": [
    "%load_ext autoreload\n",
    "%autoreload 2"
   ]
  },
  {
   "cell_type": "code",
   "execution_count": null,
   "id": "acb3a07a",
   "metadata": {},
   "outputs": [],
   "source": [
    "# Notebook dependencies\n",
    "import os\n",
    "from netrc import netrc\n",
    "from subprocess import Popen\n",
    "from platform import system\n",
    "from getpass import getpass\n",
    "from pystac_client import Client  \n",
    "from datetime import datetime\n",
    "from shapely.geometry import box\n",
    "from shapely.geometry import shape\n",
    "import pandas as pd\n",
    "import geopandas as gpd\n",
    "from osgeo import gdal\n",
    "from rioxarray.merge import merge_arrays\n",
    "\n",
    "import folium\n",
    "from folium import plugins\n",
    "\n",
    "import geoviews as gv\n",
    "\n",
    "import holoviews as hv\n",
    "hv.extension('bokeh')\n",
    "gv.extension('bokeh', 'matplotlib')\n",
    "\n",
    "import warnings\n",
    "warnings.filterwarnings('ignore')\n",
    "\n",
    "import sys\n",
    "sys.path.append('../../../')\n",
    "from src.dist_utils import intersection_percent, stack_bands, time_and_area_cube, compute_area, standard_date, colorize, mask_rasters, getbasemaps, transform_data_for_folium"
   ]
  },
  {
   "cell_type": "markdown",
   "id": "58fd0cdd",
   "metadata": {},
   "source": [
    "### 1.2 Set Up Working Environment"
   ]
  },
  {
   "cell_type": "code",
   "execution_count": null,
   "id": "893433ec",
   "metadata": {},
   "outputs": [],
   "source": [
    "inDir = os.getcwd()\n",
    "os.chdir(inDir)"
   ]
  },
  {
   "cell_type": "markdown",
   "id": "e4cb82db",
   "metadata": {},
   "source": [
    "### 1.3 Generate Authentication Token\n",
    "\n",
    "The cell below generates an authentication token and asks for your Earthdata username/password the first time if netrc does not exist in your home directory."
   ]
  },
  {
   "cell_type": "code",
   "execution_count": null,
   "id": "332dddf9",
   "metadata": {},
   "outputs": [],
   "source": [
    "urs = 'urs.earthdata.nasa.gov'    # Earthdata URL endpoint for authentication\n",
    "prompts = ['Enter NASA Earthdata Login Username: ',\n",
    "           'Enter NASA Earthdata Login Password: ']\n",
    "\n",
    "# Determine the OS (Windows machines usually use an '_netrc' file)\n",
    "netrc_name = \"_netrc\" if system()==\"Windows\" else \".netrc\"\n",
    "\n",
    "# Determine if netrc file exists, and if so, if it includes NASA Earthdata Login Credentials\n",
    "try:\n",
    "    netrcDir = os.path.expanduser(f\"~/{netrc_name}\")\n",
    "    netrc(netrcDir).authenticators(urs)[0]\n",
    "\n",
    "# Below, create a netrc file and prompt user for NASA Earthdata Login Username and Password\n",
    "except FileNotFoundError:\n",
    "    homeDir = os.path.expanduser(\"~\")\n",
    "    Popen('touch {0}{2} | echo machine {1} >> {0}{2}'.format(homeDir + os.sep, urs, netrc_name), shell=True)\n",
    "    Popen('echo login {} >> {}{}'.format(getpass(prompt=prompts[0]), homeDir + os.sep, netrc_name), shell=True)\n",
    "    Popen('echo \\'password {} \\'>> {}{}'.format(getpass(prompt=prompts[1]), homeDir + os.sep, netrc_name), shell=True)\n",
    "    # Set restrictive permissions\n",
    "    Popen('chmod 0600 {0}{1}'.format(homeDir + os.sep, netrc_name), shell=True)\n",
    "\n",
    "# Determine OS and edit netrc file if it exists but is not set up for NASA Earthdata Login\n",
    "except TypeError:\n",
    "    homeDir = os.path.expanduser(\"~\")\n",
    "    Popen('echo machine {1} >> {0}{2}'.format(homeDir + os.sep, urs, netrc_name), shell=True)\n",
    "    Popen('echo login {} >> {}{}'.format(getpass(prompt=prompts[0]), homeDir + os.sep, netrc_name), shell=True)\n",
    "    Popen('echo \\'password {} \\'>> {}{}'.format(getpass(prompt=prompts[1]), homeDir + os.sep, netrc_name), shell=True)"
   ]
  },
  {
   "cell_type": "code",
   "execution_count": null,
   "id": "629fb602",
   "metadata": {},
   "outputs": [],
   "source": [
    "# GDAL configurations used to successfully access PODAAC Cloud Assets via vsicurl \n",
    "gdal.SetConfigOption('GDAL_HTTP_COOKIEFILE','~/cookies.txt')\n",
    "gdal.SetConfigOption('GDAL_HTTP_COOKIEJAR', '~/cookies.txt')\n",
    "gdal.SetConfigOption('GDAL_DISABLE_READDIR_ON_OPEN','EMPTY_DIR')\n",
    "gdal.SetConfigOption('CPL_VSIL_CURL_ALLOWED_EXTENSIONS','TIF, TIFF')"
   ]
  },
  {
   "cell_type": "markdown",
   "id": "62e6c94d",
   "metadata": {},
   "source": [
    "## 2. CMR_STAC API: Search for Data Based on Spatial Query and Cloud Cover"
   ]
  },
  {
   "cell_type": "markdown",
   "id": "2fe59cb9",
   "metadata": {},
   "source": [
    "### 2.1 Initialize User-Defined Parameters\n",
    "\n",
    "The user should only specify parameters in the cell directly below, indicating:\n",
    "* **Area of Interest (AOI)**: coordinates entered as a shapely.geometry box object\n",
    "* **Start and Stop Dates of Interest**: default stop date is set as present day\n",
    "* **Overlap Threshold**: minimum required % spatial overlap between the AOI and DIST tiles obtained through search for DIST tile to be deemed \"acceptable\"\n",
    "* **Cloud Cover Threshold**: maximum % cloud cover allowed for a DIST tile to be deemed \"acceptable\"\n"
   ]
  },
  {
   "cell_type": "code",
   "execution_count": null,
   "id": "7e0f5819",
   "metadata": {},
   "outputs": [],
   "source": [
    "# User-Defined Parameters\n",
    "aoi = box(-105.3259771, 35.1544515,-104.8928408, 36.1448493)\n",
    "start_date = datetime(2022, 1, 1)                                   \n",
    "stop_date = f\"{datetime.today().strftime('%Y-%m-%d')} 23:59:59\"         \n",
    "overlap_threshold = 50                                                  \n",
    "cloud_cover_threshold = 20                                           \n",
    "\n",
    "print(f\"Search between {start_date} and {stop_date}\")\n",
    "print(f\"With AOI: {aoi.__geo_interface__}\")"
   ]
  },
  {
   "cell_type": "markdown",
   "id": "fa95a5bc",
   "metadata": {},
   "source": [
    "The following code block conducts an Earthdata search, storing tiles that match the user's indicated area of interest (AOI) and start/end dates of interest in *search_dist*."
   ]
  },
  {
   "cell_type": "code",
   "execution_count": null,
   "id": "01dc8258",
   "metadata": {},
   "outputs": [],
   "source": [
    "# Search data through CMR-STAC API\n",
    "stac = 'https://cmr.earthdata.nasa.gov/cloudstac'    # CMR-STAC API Endpoint\n",
    "api = Client.open(f'{stac}/LPCLOUD/')\n",
    "collections = ['OPERA_L3_DIST-ALERT-HLS_V1']\n",
    "\n",
    "search_params = {\"collections\": collections,\n",
    "                 \"intersects\": aoi.__geo_interface__,\n",
    "                 \"datetime\": [start_date, stop_date],\n",
    "                 \"limit\": 50,\n",
    "                 \"max_items\": 1000\n",
    "                }\n",
    "search_dist = api.search(**search_params)"
   ]
  },
  {
   "cell_type": "markdown",
   "id": "7ad175ed",
   "metadata": {},
   "source": [
    "### 2.2 Query DIST-ALERT-HLS tiles based on cloud cover and spatial overlap with respect to defined AOI"
   ]
  },
  {
   "cell_type": "markdown",
   "id": "d40b0b86",
   "metadata": {},
   "source": [
    "Below, the percent overlap and cloud cover of tiles in *search_dist* are displayed. Note that overlap values range from 2.21 – 99.90%, and cloud cover values range from 0 – 100%. A higher overlap percentage is more desirable, as it maximizes focus on the AOI. On the other hand, a lower cloud cover percentage is better, as visibility of the tile is greatly improved.<br><br>Our next step will be to filter these tiles according to spatial overlap % and cloud cover % to get \"acceptable\" tiles."
   ]
  },
  {
   "cell_type": "code",
   "execution_count": null,
   "id": "3fd16ebe",
   "metadata": {},
   "outputs": [],
   "source": [
    "# Filter datasets based on spatial overlap and cloud cover\n",
    "intersects_geometry = aoi.__geo_interface__\n",
    "\n",
    "#Check percent overlap values\n",
    "print(\"Percent overlap before filtering: \")\n",
    "print([f\"{intersection_percent(i, intersects_geometry):.2f}\" for i in search_dist.items()])\n",
    "\n",
    "# Check percent cloud cover values\n",
    "print(\"\\nPercent cloud cover before filtering: \")\n",
    "print([f\"{i.properties['eo:cloud_cover']}\" for i in search_dist.items()])"
   ]
  },
  {
   "cell_type": "markdown",
   "id": "42621afd",
   "metadata": {},
   "source": [
    "When filtering below, the user-defined parameters *overlap_threshold* and *cloud_cover_threshold* defined above are considered. Only tiles whose areas intersect the AOI at least 50% and tiles with a cloud cover of less than 20% will be kept. These \"acceptable\" tiles will now be stored in *dist_filtered*, while the rest of the tiles will be filtered out."
   ]
  },
  {
   "cell_type": "code",
   "execution_count": null,
   "id": "9fc21ba0",
   "metadata": {},
   "outputs": [],
   "source": [
    "# Apply spatial overlap and cloud cover threshold\n",
    "dist_filtered = (\n",
    "    i for i in search_dist.items() if (intersection_percent(i, intersects_geometry) \n",
    "                                       > overlap_threshold and \n",
    "                                       i.properties['eo:cloud_cover'] < cloud_cover_threshold)\n",
    ")"
   ]
  },
  {
   "cell_type": "markdown",
   "id": "0871743a",
   "metadata": {},
   "source": [
    "Inspecting one DIST tile from the filtered query, its metadata can be easily accessed as seen below. This includes its start/end dates of collection, geographic coordinates, and access links."
   ]
  },
  {
   "cell_type": "code",
   "execution_count": null,
   "id": "40788331",
   "metadata": {},
   "outputs": [],
   "source": [
    "dist_data = list(dist_filtered)\n",
    "dist_data[0].to_dict()"
   ]
  },
  {
   "cell_type": "markdown",
   "id": "f614fdeb",
   "metadata": {},
   "source": [
    "Examining the percent overlap and cloud cover properties of the filtered tiles shown below now, it is clear that these 17 tiles are most desirable for the user, as they have high percent-overlap and low cloud-cover values."
   ]
  },
  {
   "cell_type": "code",
   "execution_count": null,
   "id": "983354e3",
   "metadata": {},
   "outputs": [],
   "source": [
    "# Print search information\n",
    "# Total granules\n",
    "print(f\"Total granules after search filter: {len(dist_data)}\")\n",
    "\n",
    "# Check percent overlap values\n",
    "print(\"Percent-overlap: \")\n",
    "print([f\"{intersection_percent(i, intersects_geometry):.2f}\" for i in dist_data])\n",
    "\n",
    "# Check cloud cover values\n",
    "print(\"Cloud-cover: \")\n",
    "print([f\"{x.properties['eo:cloud_cover']}\" for x in dist_data])"
   ]
  },
  {
   "cell_type": "markdown",
   "id": "6a6d7d9f",
   "metadata": {},
   "source": [
    "In the figure produced below, the overlap between the boundary of the AOI and the 17 DIST tile boundaries is shown over a basemap."
   ]
  },
  {
   "cell_type": "code",
   "execution_count": null,
   "id": "6ffd37e8",
   "metadata": {
    "scrolled": false
   },
   "outputs": [],
   "source": [
    "# Visualize the DIST tile boundary and the user-defined box\n",
    "geom_df = []\n",
    "for d,_ in enumerate(dist_data):\n",
    "    geom_df.append(shape(dist_data[d].geometry))\n",
    "\n",
    "geom_granules = gpd.GeoDataFrame({'geometry':geom_df})\n",
    "granules_poly = gv.Polygons(geom_granules).opts(line_color='blue', color=None)\n",
    "\n",
    "# Use geoviews to combine a basemap with the shapely polygon of our Region of Interest (ROI)\n",
    "base = gv.tile_sources.EsriImagery.opts(width=1000, height=1000)\n",
    "\n",
    "# Get the user-specified aoi\n",
    "geom_aoi = shape(intersects_geometry)\n",
    "aoi_poly = gv.Polygons(geom_aoi).opts(line_color='yellow', color=None)\n",
    "\n",
    "# Plot using geoviews wrapper\n",
    "granules_poly*base*aoi_poly"
   ]
  },
  {
   "cell_type": "markdown",
   "id": "ab9a0a5c",
   "metadata": {},
   "source": [
    "DIST tiles adhering to the spatial overlap and cloud cover thresholds can be sorted in the table below, listing each tile's spatial coverage, cloud cover, and bandlink."
   ]
  },
  {
   "cell_type": "code",
   "execution_count": null,
   "id": "49e1a027",
   "metadata": {},
   "outputs": [],
   "source": [
    "# Create table of search results\n",
    "dist_data_df = []\n",
    "for item in dist_data:\n",
    "    item.to_dict()\n",
    "    fn = item.id.split('_')\n",
    "    ID = fn[3]\n",
    "    sensor = fn[6]\n",
    "    dat = item.datetime.strftime('%Y-%m-%d')\n",
    "    spatial_coverage = intersection_percent(item, intersects_geometry)\n",
    "    cloud_cover = item.properties['eo:cloud_cover']\n",
    "    geom = item.geometry\n",
    "    bbox = item.bbox\n",
    "\n",
    "    # Take all the band href information \n",
    "    band_links = [item.assets[links].href for links in item.assets.keys()]\n",
    "    dist_data_df.append([ID,sensor,dat,geom,bbox,spatial_coverage,cloud_cover,band_links])\n",
    "\n",
    "dist_data_df = pd.DataFrame(dist_data_df, columns = ['TileID', 'Sensor', 'Date', 'Coords', 'bbox','SpatialCoverage','CloudCover','BandLinks'])\n",
    "dist_data_df"
   ]
  },
  {
   "cell_type": "markdown",
   "id": "6789597a",
   "metadata": {},
   "source": [
    "## 3. Load and Visualize DIST-ALERT-HLS COGs from the Cloud"
   ]
  },
  {
   "cell_type": "markdown",
   "id": "03894ec1",
   "metadata": {},
   "source": [
    "If one tile is extracted from the table above, its individual layer bandlinks can be viewed below. This means the user can access each layer of the tile individually and use it to produce a visualization over a basemap. An example of this process is detailed in this section."
   ]
  },
  {
   "cell_type": "code",
   "execution_count": null,
   "id": "e2e7378d",
   "metadata": {},
   "outputs": [],
   "source": [
    "viz_dist = dist_data_df.iloc[0]\n",
    "viz_dist.BandLinks"
   ]
  },
  {
   "cell_type": "markdown",
   "id": "30380b94",
   "metadata": {},
   "source": [
    "Two tiles collected on the same date from roughly the same geographic area are extracted from the filtered collection: one obtained from Landsat-9 and the other from Sentinel-2. Using the listed bandlinks shown above, the three layers of interest (VEG_ANOM_MAX, VEG_DIST_DATE, and VEG_DIST_STATUS) are extracted from both tiles and are merged respectively."
   ]
  },
  {
   "cell_type": "code",
   "execution_count": null,
   "id": "f5db5040",
   "metadata": {},
   "outputs": [],
   "source": [
    "T42RUR_VEG_ANOM_MAX, T42RUR_VEG_ANOM_MAX_cm = transform_data_for_folium(dist_data_df.iloc[0].BandLinks[4])\n",
    "T42RVR_VEG_ANOM_MAX, T42RVR_VEG_ANOM_MAX_cm = transform_data_for_folium(dist_data_df.iloc[1].BandLinks[4])\n",
    "merged_VEG_ANOM_MAX = merge_arrays([T42RUR_VEG_ANOM_MAX, T42RVR_VEG_ANOM_MAX])\n",
    "\n",
    "\n",
    "T42RUR_VEG_DIST_DATE, T42RUR_VEG_DIST_DATE_cm = transform_data_for_folium(dist_data_df.iloc[0].BandLinks[6])\n",
    "T42RVR_VEG_DIST_DATE, T42RVR_VEG_DIST_DATE_cm = transform_data_for_folium(dist_data_df.iloc[1].BandLinks[6])\n",
    "merged_VEG_DIST_DATE = merge_arrays([T42RUR_VEG_DIST_DATE, T42RVR_VEG_DIST_DATE])\n",
    "\n",
    "T42RUR_VEG_DIST_STATUS, T42RUR_VEG_DIST_STATUS_cm = transform_data_for_folium(dist_data_df.iloc[0].BandLinks[0])\n",
    "T42RVR_VEG_DIST_STATUS, T42RVR_VEG_DIST_STATUS_cm = transform_data_for_folium(dist_data_df.iloc[1].BandLinks[0])\n",
    "merged_VEG_DIST_STATUS = merge_arrays([T42RUR_VEG_DIST_STATUS, T42RVR_VEG_DIST_STATUS])"
   ]
  },
  {
   "cell_type": "markdown",
   "id": "af0bc6b3",
   "metadata": {},
   "source": [
    "The respective merged layers are then masked such that \"No Data\" pixels become transparent, leaving only significant pixels behind. They are then colorized with the *hot_r* colormap, making them easier to interpret by the user."
   ]
  },
  {
   "cell_type": "code",
   "execution_count": null,
   "id": "332a6e29",
   "metadata": {},
   "outputs": [],
   "source": [
    "masked_VEG_ANOM_MAX, masked_VEG_DIST_DATE,masked_VEG_DIST_STATUS = mask_rasters(merged_VEG_ANOM_MAX, merged_VEG_DIST_DATE, merged_VEG_DIST_STATUS)\n",
    "\n",
    "colorized_VEG_ANOM_MAX = colorize(masked_VEG_ANOM_MAX[0])\n",
    "colorized_VEG_DIST_DATE = colorize(masked_VEG_DIST_DATE[0])\n",
    "colorized_VEG_DIST_STATUS = colorize(masked_VEG_DIST_STATUS[0])"
   ]
  },
  {
   "cell_type": "markdown",
   "id": "5f27a212",
   "metadata": {},
   "source": [
    "In the map below, the filtered and colored layers are overlapped upon a basemap. There is a small layer symbol in the upper right corner of the map, and if the user hovers over the icon, they can click the checkboxes to manipulate the basemap or view the layers separately rather than all together if they choose to do so. The user can also hover their cursor over the map to get longitudinal coordinates, as well as zoom in/out to specific pixels and click/drag to navigate around the map."
   ]
  },
  {
   "cell_type": "code",
   "execution_count": null,
   "id": "aa68131d",
   "metadata": {},
   "outputs": [],
   "source": [
    "# Initialize Folium basemap\n",
    "xmid =(merged_VEG_ANOM_MAX.x.values.min()+merged_VEG_ANOM_MAX.x.values.max())/2 ; ymid = (merged_VEG_ANOM_MAX.y.values.min()+merged_VEG_ANOM_MAX.y.values.max())/2\n",
    "m = folium.Map(location=[ymid, xmid], zoom_start=9, tiles='CartoDB positron', show=True)\n",
    "\n",
    "# Add custom basemaps\n",
    "basemaps = getbasemaps()\n",
    "for basemap in basemaps:\n",
    "    basemaps[basemap].add_to(m)\n",
    "\n",
    "folium.raster_layers.ImageOverlay(colorized_VEG_ANOM_MAX, \n",
    "                                        opacity=0.6, \n",
    "                                        bounds=[[merged_VEG_ANOM_MAX.y.values.min(),merged_VEG_ANOM_MAX.x.values.min()],[merged_VEG_ANOM_MAX.y.values.max(),merged_VEG_ANOM_MAX.x.values.max()]],\n",
    "                                        name='VEG_ANOM_MAX',\n",
    "                                        show=True).add_to(m)\n",
    "\n",
    "folium.raster_layers.ImageOverlay(colorized_VEG_DIST_DATE, \n",
    "                                        opacity=0.6, \n",
    "                                        bounds=[[merged_VEG_DIST_DATE.y.values.min(),merged_VEG_DIST_DATE.x.values.min()],[merged_VEG_DIST_DATE.y.values.max(),merged_VEG_DIST_DATE.x.values.max()]],\n",
    "                                        name='VEG_DIST_DATE',\n",
    "                                        show=True).add_to(m)\n",
    "\n",
    "folium.raster_layers.ImageOverlay(colorized_VEG_DIST_STATUS, \n",
    "                                        opacity=0.6, \n",
    "                                        bounds=[[merged_VEG_DIST_STATUS.y.values.min(),merged_VEG_DIST_STATUS.x.values.min()],[merged_VEG_DIST_STATUS.y.values.max(),merged_VEG_DIST_STATUS.x.values.max()]],\n",
    "                                        name='VEG_DIST_STATUS',\n",
    "                                        show=True).add_to(m)\n",
    "\n",
    "#layer Control\n",
    "m.add_child(folium.LayerControl())\n",
    "\n",
    "# Add fullscreen button\n",
    "plugins.Fullscreen().add_to(m)\n",
    "\n",
    "#Add inset minimap image\n",
    "minimap = plugins.MiniMap(width=200, height=200)\n",
    "m.add_child(minimap)\n",
    "\n",
    "#Mouse Position\n",
    "fmtr = \"function(num) {return L.Util.formatNum(num, 3) + ' º ';};\"\n",
    "plugins.MousePosition(position='bottomright', separator=' | ', prefix=\"Lat/Lon:\",\n",
    "                     lat_formatter=fmtr, lng_formatter=fmtr).add_to(m)\n",
    "\n",
    "#Display\n",
    "m"
   ]
  }
 ],
 "metadata": {
  "kernelspec": {
   "display_name": "opera_app",
   "language": "python",
   "name": "python3"
  },
  "language_info": {
   "codemirror_mode": {
    "name": "ipython",
    "version": 3
   },
   "file_extension": ".py",
   "mimetype": "text/x-python",
   "name": "python",
   "nbconvert_exporter": "python",
   "pygments_lexer": "ipython3",
   "version": "3.10.13"
  }
 },
 "nbformat": 4,
 "nbformat_minor": 5
}
