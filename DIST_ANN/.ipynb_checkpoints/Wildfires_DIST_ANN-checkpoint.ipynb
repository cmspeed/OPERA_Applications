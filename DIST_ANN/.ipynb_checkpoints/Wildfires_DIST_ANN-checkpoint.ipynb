{
 "cells": [
  {
   "cell_type": "markdown",
   "id": "fe223f8b",
   "metadata": {},
   "source": [
    "# OPERA DIST_ANN for Tracking Wildfire Impacts and Regrowth"
   ]
  },
  {
   "cell_type": "code",
   "execution_count": null,
   "id": "94fdb632",
   "metadata": {},
   "outputs": [],
   "source": [
    "# Library Imports\n",
    "\n",
    "import xarray as xr\n",
    "import hvplot.xarray\n",
    "import geoviews as gv\n",
    "import pyproj\n",
    "from pyproj import Proj\n",
    "import holoviews as hv\n",
    "\n",
    "from bokeh.models import FixedTicker\n",
    "import bokeh.palettes\n",
    "hv.extension('bokeh')\n",
    "\n",
    "import warnings\n",
    "warnings.filterwarnings('ignore')"
   ]
  },
  {
   "cell_type": "markdown",
   "id": "b9ff98cb",
   "metadata": {},
   "source": [
    "### Background\n",
    "\n",
    "A series of fires affected counties of northern California during the 2021 and 2022 wildfire seasons. We will be looking at a subset of these fires located in the region of Klamath National Forest in western Siskiyou County:\n",
    "\n",
    "| Name | Dates |\n",
    "| ---  | --- |\n",
    "| Antelope | 8/1/2021 - 1/3/2022 |\n",
    "| Tennant | 6/28/2021-1/3/2022 |\n",
    "| Lava | 6/25/2021-10/26/2021 |\n",
    "| Gulch | 3/12/2022-3/14/2022 |\n",
    "| Mountain | 9/2/2022-10/2/2022 |\n",
    "| Mckinney | 7/29/2022-9/7/2022 |\n",
    "| Alex | 7/31/2022 - 8/3/2022 |\n",
    "| Mill | 9/2/2022-9/11/2022|  \n",
    "| Coyote | 9/7/2022-9/8/2022| \n",
    "\n",
    "*Data from the [California Data Portal](https://data.ca.gov/dataset/california-fire-perimeters-all)*\n",
    "\n",
    "\n",
    "Among these fires, the most spatially destructive was the McKinney and  McKinney Fire was a destructive wildfire that burned in the Klamath National Forest in western Siskiyou County, California, in the United States as part of the 2022 California wildfire season. (Update this its a copy/paste from wiki). The fire ignited at approximately 2:15PM (PST) on July 29, 2022 and destroyed ~60,000 acres in the next x days. The fire and was considered 100% contained as of October 1, 2022. \n",
    "\n",
    "Here we use the OPERA **DIST_ANN** product, a pixel-wise summary of annual vegetation disturbance to demonstrate how the product may be used to quantify the spatial magnitude of wildfire impacts and vegetation regrowth."
   ]
  },
  {
   "cell_type": "markdown",
   "id": "42e8db17",
   "metadata": {},
   "source": [
    "*The DIST_ANN product used here is a provisional product with an observation date exceeding the operational 1-year period.*"
   ]
  },
  {
   "cell_type": "code",
   "execution_count": null,
   "id": "e46b88d0",
   "metadata": {},
   "outputs": [],
   "source": [
    "# Load the DIST_ANN bands of interest\n",
    "data_dir = 'https://glad.umd.edu/projects/opera/SEP/DIST-ANN/10/T/E/M/2022/OPERA_L3_DIST-ANN-HLS_T10TEM_2022_2023136T210508Z_30_v0_'\n",
    "bandlist = ['VEG-DIST-STATUS', 'VEG-HIST', 'VEG-IND-MAX','VEG-ANOM-MAX', 'VEG-DIST-CONF', 'VEG-DIST-DATE', \n",
    "            'VEG-DIST-COUNT', 'VEG-DIST-DUR', 'VEG-LAST-DATE', 'GEN-DIST-STATUS', 'GEN-ANOM-MAX', 'GEN-DIST-CONF',\n",
    "            'GEN-DIST-DATE', 'GEN-DIST-COUNT', 'GEN-DIST-DUR', 'GEN-LAST-DATE']\n",
    "bandpath = f\"{data_dir}%s.tif\""
   ]
  }
 ],
 "metadata": {
  "kernelspec": {
   "display_name": "Python 3 (ipykernel)",
   "language": "python",
   "name": "python3"
  },
  "language_info": {
   "codemirror_mode": {
    "name": "ipython",
    "version": 3
   },
   "file_extension": ".py",
   "mimetype": "text/x-python",
   "name": "python",
   "nbconvert_exporter": "python",
   "pygments_lexer": "ipython3",
   "version": "3.7.12"
  }
 },
 "nbformat": 4,
 "nbformat_minor": 5
}
