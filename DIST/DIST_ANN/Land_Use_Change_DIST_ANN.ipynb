{
 "cells": [
  {
   "cell_type": "markdown",
   "metadata": {},
   "source": [
    "# Visualizing and Analyzing OPERA DIST-ALERT and DIST-ANN Products to Visualize to Land-Use Change in Brazil\n",
    "This notebook is designed to showcase the use of the OPERA DIST-ALERT and DIST-ANN products to visualize vegetation disturbance associated with a land-use change in Brazil during the 2022 calendar year. OPERA DIST-ALERT data enables timelapse examination of the extent and severity of vegetation loss, whereas the DIST-ANN data provide a yearly summary of confirmed vegetation loss in a single composite tile.\n",
    "\n",
    "A [NASA Earthdata Login](https://urs.earthdata.nasa.gov/) account is required to download the data used in this tutorial. You can create an account at the link provided.\n",
    "\n",
    "*<font color='red'>Note 1: This notebook uses provisional products, which may differ slightly from operational products. Please refer to [DIST product specification](https://d2pn8kiwq2w21t.cloudfront.net/documents/ProductSpec_DIST_HLS.pdf) for more information. </font>*<br><br>\n",
    "*<font color='red'>Note2: DIST products are distributed via NASA's Distributed Active Archive Centers (DAACs), specifically the [LP DAAC](https://lpdaac.usgs.gov). However, the DIST-ANN data accessed and visualized in this particular notebook were produced specifically for instructional purposes and specific for this notebook, and are instead, stored and distributed by the Global Land Analysis and Discovery (GLAD) group at the University of Maryland.</font>*\n"
   ]
  },
  {
   "cell_type": "markdown",
   "metadata": {},
   "source": [
    "## Background\n",
    "A period of land-use change the Amazon rainforest of Brazil occured during the 2022 calendar year, We will be exploring DIST-ALERT and DIST-ANN tiles that captures the vegetation disturbance associated with this land-use change.\n",
    "\n",
    "### DIST Product Suite Background\n",
    "---\n",
    "The land Disturbance product suite (**DIST**) maps vegetation disturbance from Harmonized Landsat-8 and Sentinel-2 A/B (HLS) scenes. Disturbance is detected when vegetation cover decreases or spectral variation is outside a historical norm within an HLS pixel. Two DIST products compose the DIST product suite: 1) the **DIST-ALERT** product, capturing vegetation disturbance at the cadence of HLS sampling (2-3 days); and 2) the **DIST-ANN** product, summarizing the confirmed changes of the DIST-ALERT products from previous calendar year.  *<font color='red'>Note: The DIST-ANN product used here is a provisional product with an observation date exceeding the operational 1-year period. </font>*\n",
    "\n",
    "This notebook provides a step-by-step workflow visualizing **DIST-ANN** raster layers for the 2022 calendar year. An analogous notebook for the **DIST-ALERT** product may be accessed in the [OPERA Applications Github repository](https://github.com/OPERA-Cal-Val/OPERA_Applications/blob/main/DIST/Wildfire/Intro_To_DIST.ipynb).\n",
    "\n",
    "### Metadata\n",
    "---\n",
    "HLS products provide surface reflectance (SR) data from the Operational Land Imager (OLI) aboard the Landsat-8 remote sensing satellite and the Multi-Spectral Instrument (MSI) aboard the Sentinel-2 A/B remote sensing satellite. HLS products are distributed over projected map coordinates aligned with the Military Grid Reference System (MGRS). Each tile covers 109.8 square kilometers divided into 3660 rows and 3660 columns at 30 meter pixel spacing. Each tile overlaps neighbors by 4900 meters in each direction. The **DIST-ANN** product is stored distributed as a set of 16 Cloud-Optimized GeoTIFF (COG) files.  Details specific to the available raster layers and their properties are available in the [OPERA DIST Product Specifications Document](https://d2pn8kiwq2w21t.cloudfront.net/documents/ProductSpec_DIST_HLS.pdf).\n",
    "\n",
    "### Data Distribution\n",
    "DIST product data are stored and distributed via NASA's Distributed Active Archive Centers (DAACs), specifically the [LP DAAC](https://lpdaac.usgs.gov).  However, the DIST-ANN data accessed and visualized in this particular notebook were produced specifically for instructional purposes and specific for this notebook, and are instead, stored and distributed by the Global Land Analysis and Discovery (GLAD) group at the University of Maryland.\n"
   ]
  },
  {
   "cell_type": "markdown",
   "metadata": {},
   "source": [
    "## Library Imports and Configurations\n",
    "First we import the necessary Python libraries. These come pre-installed in the `opera_app` anaconda environement within the [OPERA Applications Gitub repository](https://github.com/OPERA-Cal-Val/OPERA_Applications). We also import a collection of custom DIST-specific functions from a source file called `dist_utils.py`."
   ]
  },
  {
   "cell_type": "code",
   "execution_count": null,
   "metadata": {},
   "outputs": [],
   "source": [
    "# Notebook dependencies\n",
    "import xarray as xr\n",
    "import hvplot.xarray\n",
    "import geoviews as gv\n",
    "import numpy as np\n",
    "import matplotlib.pyplot as plt\n",
    "import matplotlib.dates as mdates\n",
    "import geopandas as gpd\n",
    "import panel.widgets as pnw\n",
    "import datetime\n",
    "from datetime import date, timedelta, datetime\n",
    "import ipyleaflet\n",
    "import leafmap.leafmap as leafmap\n",
    "import seaborn\n",
    "from bokeh.models import FixedTicker\n",
    "\n",
    "import holoviews as hv\n",
    "hv.extension('bokeh')\n",
    "\n",
    "import warnings\n",
    "warnings.filterwarnings('ignore')\n",
    "\n",
    "import seaborn as sns\n",
    "sns.set(style='whitegrid')\n",
    "\n",
    "import sys\n",
    "sys.path.append('../../')\n",
    "from src.dist_utils import *"
   ]
  },
  {
   "cell_type": "markdown",
   "metadata": {},
   "source": [
    "The next cell configures gdal and provideds necessary authentication to successfully access LP DAAC cloud-hosted assets.\n",
    "We first determine that valid Earthdata credentials are present in a .netrc file, used for accessing LP DAAC Cloud Assets. We also set the configuration options for GDAL to access the data successfully."
   ]
  },
  {
   "cell_type": "code",
   "execution_count": null,
   "metadata": {},
   "outputs": [],
   "source": [
    "# Check for valid Earthdata credentials\n",
    "check_netrc()\n",
    "\n",
    "# Set GDAL configs to successfully access LP DAAC Cloud Assets via vsicurl\n",
    "gdal.SetConfigOption(\"GDAL_HTTP_UNSAFESSL\", \"YES\")\n",
    "gdal.SetConfigOption('GDAL_HTTP_COOKIEFILE','~/cookies.txt')\n",
    "gdal.SetConfigOption('GDAL_HTTP_COOKIEJAR', '~/cookies.txt')\n",
    "gdal.SetConfigOption('GDAL_DISABLE_READDIR_ON_OPEN','FALSE')\n",
    "gdal.SetConfigOption('CPL_VSIL_CURL_ALLOWED_EXTENSIONS','TIF')"
   ]
  },
  {
   "cell_type": "markdown",
   "metadata": {},
   "source": [
    "## Create Products from Harmonized Landsat and Sentinel (HLS) Data\n",
    "The OPERA Disturbance product is derived from HLS. The time series of HLS is what provides the quantification of vegetation disturbance. \n",
    "\n",
    "In the next cell, we specify and access HLS data from Earthdata to provide some background and insight into how the DIST products are derived. We have chosen an HLS tile that covers the fire-affected region. We retreive this tile for two different time periods, namely July 21, 2022 and September 23, 2022. The tiles have the exact same spatial extent. The next cell will use custom DIST functions contained in `dist_utils.py` to produce three HLS products: (1) True color; (2) False color; and (3) Normalized Difference Vegetation Index (NDVI). These files will be available in a subdirectory on the user's file system called `tifs`. The false color and NDVI products help to visualize changes in vegetation that are further quantified with the HLS DIST-ALERT product."
   ]
  },
  {
   "cell_type": "markdown",
   "metadata": {},
   "source": [
    "## Harmonized Landsat and Sentinel (HLS) Data\n",
    "The OPERA Disturbance product is derived from HLS. The time series of HLS is what provides the quantification of vegetation disturbance. \n",
    "\n",
    "In the next cell, we specify and access HLS data from Earthdata to provide an idea of where the disturbance products are derived. We have chosen an HLS tile that covers the area affected by land-use change, and we retreive this tile for two different time periods, namely June 23, 2022 and June 18, 2023. The tiles have the exact same spatial extent. The next cell will use custom DIST functions contained in `dist_utils.py` to produce three HLS products: (1) True color; (2) False color; and (3) Normalized Difference Vegetation Index (NDVI). These files will be available in a subdirectory on the user's file system called `tifs`. The false color and NDVI products help to visualize changes in vegetation that are further quantified with the HLS DIST-ALERT product."
   ]
  },
  {
   "cell_type": "code",
   "execution_count": null,
   "metadata": {},
   "outputs": [],
   "source": [
    "hls1a = 'https://data.lpdaac.earthdatacloud.nasa.gov/lp-prod-protected/HLSL30.020/HLS.L30.T21LZH.2022175T133807.v2.0/HLS.L30.T21LZH.2022175T133807.v2.0.'\n",
    "hls1b = 'https://data.lpdaac.earthdatacloud.nasa.gov/lp-prod-protected/HLSL30.020/HLS.L30.T21LZH.2022174T134415.v2.0/HLS.L30.T21LZH.2022174T134415.v2.0.' \n",
    "hls2a = 'https://data.lpdaac.earthdatacloud.nasa.gov/lp-prod-protected/HLSL30.020/HLS.L30.T21LZH.2023170T133743.v2.0/HLS.L30.T21LZH.2023170T133743.v2.0.'\n",
    "hls2b = 'https://data.lpdaac.earthdatacloud.nasa.gov/lp-prod-protected/HLSL30.020/HLS.L30.T21LZH.2023169T134321.v2.0/HLS.L30.T21LZH.2023169T134321.v2.0.'\n",
    "hls1 = [hls1a, hls1b]\n",
    "hls2 = [hls2a, hls2b]\n",
    "bandlist = ['B05', 'B04', 'B03', 'B02']\n",
    "veg_dist_status = 'https://glad.umd.edu/projects/opera/SEP/DIST-ANN/21/L/Z/H/2022/OPERA_L3_DIST-ANN-HLS_T21LZH_2022_2023136T210507Z_30_v0_VEG-DIST-STATUS.tif'\n",
    "\n",
    "merge_and_stack_geotiffs(hls1, bandlist, 'tifs/merged_6_23_22.tif')\n",
    "merge_and_stack_geotiffs(hls2, bandlist, 'tifs/merged_6_18_23.tif')\n",
    "make_rendering('tifs/merged_6_23_22.tif', 'true', 'true_color_6_23_22_Brazil.tif')\n",
    "make_rendering('tifs/merged_6_18_23.tif', 'true', 'true_color_6_18_23_Brazil.tif')\n",
    "make_rendering('tifs/merged_6_23_22.tif', 'false', 'false_color_6_23_22_Brazil.tif')\n",
    "make_rendering('tifs/merged_6_18_23.tif', 'false', 'false_color_6_18_23_Brazil.tif')\n",
    "make_rendering('tifs/merged_6_23_22.tif', 'ndvi', 'ndvi_6_23_22_Brazil.tif')\n",
    "make_rendering('tifs/merged_6_18_23.tif', 'ndvi', 'ndvi_6_18_23_Brazil.tif')"
   ]
  },
  {
   "cell_type": "markdown",
   "metadata": {},
   "source": [
    "We can now visualize the true color, false color, and NDVI images for the area of interest. First let's visualize the pre- and land-use change true color HLS data. Move the slider to the right to view the June 23, 2022 image and to the left to view the June 18, 2023 image."
   ]
  },
  {
   "cell_type": "markdown",
   "metadata": {},
   "source": [
    "## Visualize Pre- and Post-Land-Use Change HLS Products\n",
    "We now visualize the true color, false color, and NDVI images for the area of interest. First let's visualize the pre- and post-fire true color HLS data. This visualization workflow uses the open-source `leafmap` Python library to create informative timelapse visualizations of the area of interst. `leafmap` provides numerous powerful capabilities for geospatial data visualization and analysis in the Jupyer environment. For additional details on the `leafmap` library, see the [leafmap docs](https://leafmap.org).\n",
    "\n",
    "Below we create a series of 'split maps' which show the pre-land-use change image on the left hand side and the post-land-use change image on the right hand side. The map that appears after executing the cell is interactive. Move the slider to the right to view the June 23, 2022 (pre-land-use change) image and to the left to view the June 18, 2023 (post-land-use change) image."
   ]
  },
  {
   "cell_type": "code",
   "execution_count": null,
   "metadata": {},
   "outputs": [],
   "source": [
    "m = leafmap.Map(center=[-11.167, -53.717], zoom=10)\n",
    "m.split_map(\n",
    "    left_layer='tifs/true_color_6_23_22_Brazil.tif',\n",
    "    right_layer='tifs/true_color_6_18_23_Brazil.tif',\n",
    "    left_label=\"6-23-2022\",\n",
    "    right_label=\"6-18-2023\"\n",
    ")\n",
    "m"
   ]
  },
  {
   "cell_type": "markdown",
   "metadata": {},
   "source": [
    "Close examination reveals a difference in the visual appearance of the landscape in the left side of the June 18, 2023 image. This appears to be vegetation loss due to human activity. However, this area is not very obvious in the true color image. We can leverage both the false color and NDVI images to more clearly see the affected region. Let's first look at a false color image of the same area (explained further below)."
   ]
  },
  {
   "cell_type": "code",
   "execution_count": null,
   "metadata": {},
   "outputs": [],
   "source": [
    "m = leafmap.Map(center=[-11.167, -53.717], zoom=10)\n",
    "m.split_map(\n",
    "    left_layer='tifs/false_color_6_23_22_Brazil.tif',\n",
    "    right_layer='tifs/false_color_6_18_23_Brazil.tif',\n",
    "    left_label=\"6-23-2022\",\n",
    "    right_label=\"6-18-2023\"\n",
    ")\n",
    "m"
   ]
  },
  {
   "cell_type": "markdown",
   "metadata": {},
   "source": [
    "Above is what is called a 'false color' image. In this false color image, the near infrared (NIR) band replaces the red band. The NIR band is sensitive to the chlorophyll in leafy vegetation, making the false color image a useful tool for investigating vegatation change between two images.Here, red color is a strong indicator of vegetation cover, whereas blue and green colors are more indicative of non-vegetative cover. Notice the regions which appear more red in the left (pre-land-use change) image and more blue-green in the second (post-land-use change) image. These regions have undergone vegetation loss between the two HLS scenes. Zoom in on the image to view the changes in more detail.\n",
    "\n",
    "Another way to highlight vegetation pixels is through the use of the NDVI. This is a band ratio between the NIR and red bands, which produces an image with values ranging from 0-1. Values nearer 0 are unlikely to be vegetation, whereas values near 1 are very likely to represent vegetation. Let's have a look at the NDVI images we have produced. "
   ]
  },
  {
   "cell_type": "code",
   "execution_count": null,
   "metadata": {},
   "outputs": [],
   "source": [
    "m = leafmap.Map(center=[-11.167, -53.717], zoom=10)\n",
    "m.split_map(\n",
    "    left_layer='tifs/ndvi_6_23_22_Brazil.tif',\n",
    "    right_layer='tifs/ndvi_6_18_23_Brazil.tif',\n",
    "    left_label=\"6-23-2022\",\n",
    "    right_label=\"6-18-2023\"\n",
    ")\n",
    "m"
   ]
  },
  {
   "cell_type": "markdown",
   "metadata": {},
   "source": [
    "In the above interactive map, darker colors represent NDVI values nearer to 0 (non-vegetation) while lighter colors represent NDVI values nearer to 1 (most likely vegetation). Pan between the pre- and post-land-use change NDVI tiles. Are the affected areas easier to delineate now?\n",
    "\n",
    "Let's now turn to look at the DIST-HLS product, and specifically the DIST-ANN yearly summary of vegetation change for the region of interest. The next cell pans between the NDVI image we have produced and the co-located DIST-HLS data. While the DIST-HLS product is not derived from the NDVI data directly, there is a clear relationship between the vegetation decrease indicated in the NDVI and the pixels classified as 'disturbance' in the DIST-ANN data. "
   ]
  },
  {
   "cell_type": "code",
   "execution_count": null,
   "metadata": {},
   "outputs": [],
   "source": [
    "m = leafmap.Map(center=[-11.167, -53.717], zoom=10)\n",
    "m.split_map(\n",
    "    left_layer='tifs/ndvi_6_18_23_Brazil.tif',\n",
    "    right_layer='tifs/veg_dist_status_Brazil.tif',\n",
    "    left_label=\"6-18-2023 True Color\",\n",
    "    right_label=\"2023 VEG-DIST-STATUS\",\n",
    ")\n",
    "m"
   ]
  },
  {
   "cell_type": "markdown",
   "metadata": {},
   "source": [
    "In the sections below, we will explore the OPERA DIST-ALERT and DIST-ANN product suite to see how these qualitative changes visible in the HLS may be more further quantified."
   ]
  },
  {
   "cell_type": "markdown",
   "metadata": {},
   "source": [
    "## Load DIST-ALERT data\n",
    "First we will explore the OPERA DIST-ALERT product, which provides a measure of vegetation disturbance at the cadence of the HLS data (2-3 days). The next two cells path to and create a list containing a subset of DIST-ALERT tiles spanning the 2022-2023 calendar years. The data explored here are currently stored and distributed by the Global Land Analysis and Discovery (GLAD) group at the University of Maryland, and are accessed through a series of url links contained in the provided `10TEM_DIST-ALERT_links.txt`. This file is available in the `DIST` repository by default. \n",
    "\n",
    "We explore two layers of the DIST-ALERT product, namely the (1) `VEG-DIST-STATUS` and (2) `VEG-IND` layers. `VEG-DIST-STATUS` tracks pixels exhibiting provisional and confirmed vegetation disturbance, whereas `VEG-IND` tracks the pixel-wise vegetation indicator value. These layers are helpful for depicting the spatial extent and severity of vegetation loss.\n"
   ]
  },
  {
   "cell_type": "code",
   "execution_count": null,
   "metadata": {},
   "outputs": [],
   "source": [
    "### Open file containing paths to DIST-ALERT for Central Brazil\n",
    "dist_alert_tiles_local = '../links_to_data/21LZH_DIST-ALERT_links.txt'\n",
    "file = open(dist_alert_tiles_local, \"r\")\n",
    "lines = file.readlines()\n",
    "file.close()\n",
    "\n",
    "veg_dist_status = []\n",
    "veg_ind = []\n",
    "\n",
    "# Get only the VEG-DIST-STATUS and VEG-IND paths\n",
    "for line in lines:\n",
    "    fp = line[:-1]\n",
    "    #Check if the file path ends with 'VEG-DIST-STATUS.tif' or 'VEG-IND' and add to corresponding list\n",
    "    if fp.endswith('VEG-DIST-STATUS.tif'):\n",
    "        veg_dist_status.append(line.strip())\n",
    "    elif fp.endswith('VEG-IND.tif'):\n",
    "        veg_ind.append(line.strip())\n",
    "    \n",
    "# There are ~250 VEG-DIST-STATUS and VEG-HIST tiles, lets keep every 10th tile. This results in a subset of ~25 tiles for exploration\n",
    "veg_dist_status = veg_dist_status[0::10]\n",
    "veg_ind = veg_ind[0::10]"
   ]
  },
  {
   "cell_type": "markdown",
   "metadata": {},
   "source": [
    "## Visualize spatial extent and severity of vegetation change through time with the OPERA DIST-ALERT product\n",
    "Let's first examine the spatial extent of the land-use change. This notebook uses the open-source `leafmap` and `ipyleaflet` libraries for visualization and for enabling custom user-defined areas of interest on interactive maps. For more information on these libraries, see the [leafmap](https://leafmap.org) and [ipyleaflet](https://ipyleaflet.readthedocs.io/en/latest/) docs.\n",
    "\n",
    "Throughout this notebook, the user will encounter several interactive maps displaying a raster layer a series of tools on the left-hand side for zooming and drawing bounding boxes with `ipyleaflet`. The next cell is the first example of this functionality. The interactive map will include a raster file overlain.\n",
    "\n",
    "The majority of disturbance occurs in the northeastern portion of the raster. Use the `rectangle` tool to draw a bounding box over this region to retreive information from the underlying raster data within the bounding box."
   ]
  },
  {
   "cell_type": "code",
   "execution_count": null,
   "metadata": {},
   "outputs": [],
   "source": [
    "# Plot VEG-DIST-STATUS on ipyleaflet map\n",
    "dist_url ='https://glad.umd.edu/projects/opera/SEP/DIST-ANN/21/L/Z/H/2022/OPERA_L3_DIST-ANN-HLS_T21LZH_2022_2023136T210507Z_30_v0_VEG-DIST-STATUS.tif'\n",
    "\n",
    "# Make leaflet map\n",
    "m = leafmap.Map(basemap=ipyleaflet.basemaps.Esri.WorldImagery,\n",
    "    zoom=9,\n",
    "    crs=ipyleaflet.projections.EPSG3857,\n",
    "    draw_control=False)\n",
    "\n",
    "# Add raster draw functionality\n",
    "m.add_cog_layer(dist_url, name=\"VEG-DIST-STATUS\")\n",
    "dc = ipyleaflet.DrawControl(\n",
    "    polygon={},\n",
    "    rectangle={\"shapeOptions\": {\"color\": \"blue\"}},\n",
    "    circlemarker={},\n",
    "    circle = {},\n",
    "    polyline={}\n",
    ")\n",
    "\n",
    "# Draw an AOI on an interactive map\n",
    "print('Select an Area of Interest using the \"rectangle\" tool on the left side of the map.')\n",
    "dc.on_draw(handle_draw)\n",
    "m.add_control(dc)\n",
    "display(m)"
   ]
  },
  {
   "cell_type": "markdown",
   "metadata": {},
   "source": [
    "Below, we use the built-in `leafmap` zonal statistics tool to compute the area for each class in the `VEG-DIST-STATUS` tile and the mean vegetation indicator value in the `VEG-IND` tile within this rectangular region. We then plot the area and mean vegetation indicator as a time-series to visualize how vegetation disturbance extent and severity has evolved through time."
   ]
  },
  {
   "cell_type": "code",
   "execution_count": null,
   "metadata": {},
   "outputs": [],
   "source": [
    "### Compute the area of each class within the bounding box through time ###\n",
    "# User-Defined Parameters\n",
    "from shapely import box\n",
    "ll = dc.last_draw['geometry']['coordinates'][0][0]\n",
    "ur = dc.last_draw['geometry']['coordinates'][0][2]\n",
    "aoi = box(ll[0], ll[1], ur[0], ur[1])\n",
    "\n",
    "# Make GeoDataFrame from AOI\n",
    "gdf = gpd.GeoDataFrame(index=[0], crs='epsg:4326', geometry=[aoi])\n",
    "\n",
    "# Compute the affected areas through time\n",
    "affected_areas_through_time = []\n",
    "veg_ind_through_time = []\n",
    "dates = []\n",
    "for i,tile in enumerate(veg_dist_status[1:]):\n",
    "    \n",
    "    date = extract_date_from_string(tile)\n",
    "    date = datetime.strptime(date, '%Y%j')\n",
    "    area_stats = leafmap.zonal_stats(gdf, tile, stats=['count'], categorical=True)[0]\n",
    "    ind_stats = leafmap.zonal_stats(gdf, veg_ind[i], stats=['mean'], categorical=False)[0]\n",
    "    if ind_stats['mean'] is not None:\n",
    "        dates.append(date)\n",
    "        veg_ind_through_time.append(ind_stats['mean'])\n",
    "    del area_stats['count']\n",
    "    for status in range(5):\n",
    "        if status not in area_stats:\n",
    "            area_stats[status] = 0\n",
    "    area_stats = dict(sorted(area_stats.items()))\n",
    "    pixel_area = 30 * 30\n",
    "    affected_areas_through_time.append(compute_areas([area_stats], pixel_area, 'alert', date))\n",
    "\n",
    "# Make Pandas dataframes for the computed statistics\n",
    "combined_areas = pd.concat(affected_areas_through_time, axis=0)\n",
    "veg_indicators = pd.DataFrame({'Date':dates, 'Vegetation Indicator':veg_ind_through_time})\n",
    "veg_indicators.set_index('Date', inplace=True)"
   ]
  },
  {
   "cell_type": "markdown",
   "metadata": {},
   "source": [
    "Now we can plot the results graphically using plot functionality within the open-source `pandas` library, whose docs are available [here](https://pandas.pydata.org/docs/)."
   ]
  },
  {
   "cell_type": "code",
   "execution_count": null,
   "metadata": {},
   "outputs": [],
   "source": [
    "# Group the area data by \"Date\" and \"Class\"\n",
    "grouped_data = combined_areas.groupby(['Date', 'VEG-DIST-STATUS Class'])['Area (km2)'].sum()\n",
    "\n",
    "# Reset the index of the grouped data to turn it back into a DataFrame\n",
    "grouped_df = grouped_data.reset_index()\n",
    "\n",
    "# Pivot the data to have \"Class\" values as columns and \"Date\" as index\n",
    "pivot_df = grouped_df.pivot(index='Date', columns='VEG-DIST-STATUS Class', values='Area (km2)')\n",
    "\n",
    "# Plot the data\n",
    "fig, [ax1, ax2] = plt.subplots(1, 2, figsize=(15,5))\n",
    "pivot_df.plot(ax=ax1,marker='.')\n",
    "veg_indicators.plot(ax=ax2,marker='.')\n",
    "\n",
    "# Add labels and title\n",
    "ax1.set_xlabel('Date')\n",
    "ax1.set_ylabel('Area (km2)')\n",
    "ax2.set_xlabel('Date')\n",
    "ax2.set_ylabel('Vegetation Indicator')\n",
    "\n",
    "plt.show()"
   ]
  },
  {
   "cell_type": "markdown",
   "metadata": {},
   "source": [
    "If the a region in the northeastern portion of the map was selected with the bounding box, the above plots should indicate a notable decrease in area corresponding to `VEG-DIST-STATUS` class 0 (No disturbance) and a corresponding increase in `VEG-DIST-STATUS` class 4 (Confirmed; ≥50% disturbance) that occurs around September 2022. This corresponds to the time to onset of land-use change, when disturbance increased significantly. Likewise, the plot of vegetation indicator through time indicates a noteable decrease at the same time, inicating the severity of vegetation loss."
   ]
  },
  {
   "cell_type": "markdown",
   "metadata": {},
   "source": [
    "## Visualize the DIST-ANN VEG_DIST_STATUS Layer and Compute Cumulative Areas of Disturbance \n",
    "We will now explore the annual summary of disturbance associated with the land-use change in Brazil in 2022 using the `DIST-ANN` product. Any pixel which registers as confirmed disturbance in the DIST-ALERT `VEG-DIST-STATUS` data throughout the calendar year will be added to the yearly DIST-ANN `VEG-DIST-STATUS` layer for that year. The DIST-ANN `VEG-DIST-STATUS` layer tracks only confirmed changes, and whether the disturbance was greater or less than 50% when compared to historical vegetation cover. Below we visualize the DIST-ANN `VEG-DIST-STATUS` layer.\n",
    "\n",
    "We can use the DIST-ANN product to compute the total area of disturbance for a given region. To do so, we can use an interactive map and draw functionality provided by the open-source `ipyleaflet` library, just as we did for the DIST-ALERT analysis above.\n",
    "\n",
    "Below, use the draw tools to draw a rectangular region over an area that appears to show disturbance (we recommend the northeastern region). Using custom functions in `dist_utils` we compute cumulative disturbance for each class."
   ]
  },
  {
   "cell_type": "code",
   "execution_count": null,
   "metadata": {},
   "outputs": [],
   "source": [
    "# Plot VEG-DIST-STATUS on ipyleaflet map\n",
    "dist_url ='https://glad.umd.edu/projects/opera/SEP/DIST-ANN/21/L/Z/H/2022/OPERA_L3_DIST-ANN-HLS_T21LZH_2022_2023136T210507Z_30_v0_VEG-DIST-STATUS.tif'\n",
    "\n",
    "# Make leaflet map\n",
    "m = leafmap.Map(basemap=ipyleaflet.basemaps.Esri.WorldImagery,\n",
    "    zoom=9,\n",
    "    crs=ipyleaflet.projections.EPSG3857,\n",
    "    draw_control=False)\n",
    "\n",
    "# Add raster draw functionality\n",
    "m.add_cog_layer(dist_url, name=\"VEG-DIST-STATUS\")\n",
    "dc = ipyleaflet.DrawControl(\n",
    "    polygon={},\n",
    "    rectangle={\"shapeOptions\": {\"color\": \"blue\"}},\n",
    "    circlemarker={},\n",
    "    circle = {},\n",
    "    polyline={}\n",
    ")\n",
    "\n",
    "# Draw an AOI on an interactive map\n",
    "print('Select an Area of Interest using the tools on the left side of the map.')\n",
    "dc.on_draw(handle_draw)\n",
    "m.add_control(dc)\n",
    "display(m)"
   ]
  },
  {
   "cell_type": "markdown",
   "metadata": {},
   "source": [
    "Now we can compute cumulative area statistics, below."
   ]
  },
  {
   "cell_type": "code",
   "execution_count": null,
   "metadata": {},
   "outputs": [],
   "source": [
    "# User-Defined Parameters\n",
    "from shapely import box\n",
    "ll = dc.last_draw['geometry']['coordinates'][0][0]\n",
    "ur = dc.last_draw['geometry']['coordinates'][0][2]\n",
    "aoi = box(ll[0], ll[1], ur[0], ur[1])\n",
    "\n",
    "# Create GeoDataFrame from user-specified bounding box\n",
    "gdf = gpd.GeoDataFrame(index=[0], crs='epsg:4326', geometry=[aoi])\n",
    "\n",
    "# Compute statistics within bounding box\n",
    "stats = leafmap.zonal_stats(gdf, dist_url, stats=['count'], categorical=True)[0]\n",
    "del stats['count']\n",
    "for i in [0,5,2,4,6]:\n",
    "    if i not in stats:\n",
    "        stats[i] = 0\n",
    "        \n",
    "affected_areas = compute_areas([stats], pixel_area, product='ann', date=None)\n",
    "affected_areas"
   ]
  },
  {
   "cell_type": "markdown",
   "metadata": {},
   "source": [
    "Above, you should see a dataframe containing rows for each `VEG-DIST-STATUS` class, their description, and the cumulative areas in square kilometers and hectares."
   ]
  },
  {
   "cell_type": "markdown",
   "metadata": {},
   "source": [
    "## Conclusion\n",
    "This notebook provides a tool for accessing and visulizing data of the OPERA DIST-ALERT and DIST-ANN products and quantifying the spatiotemporal impact of land-use on vegetation change in the rainforest of Brazil. The DIST-ALERT data track the temporal record of vegetation disturbance, wheras the DIST-ANN data provide a summary of the disturbance that occured over the course of the calendar year. This notebook demonstrates how the `leaflet` and `ipyleaflet` libraries may be used to create enhanced visualizations over user-specified areas. For additional workflows, see the [OPERA Applications Github repository](https://github.com/OPERA-Cal-Val/OPERA_Applications)."
   ]
  }
 ],
 "metadata": {
  "kernelspec": {
   "display_name": "Python 3 (ipykernel)",
   "language": "python",
   "name": "python3"
  },
  "language_info": {
   "codemirror_mode": {
    "name": "ipython",
    "version": 3
   },
   "file_extension": ".py",
   "mimetype": "text/x-python",
   "name": "python",
   "nbconvert_exporter": "python",
   "pygments_lexer": "ipython3",
   "version": "3.10.12"
  }
 },
 "nbformat": 4,
 "nbformat_minor": 2
}
